{
 "cells": [
  {
   "cell_type": "markdown",
   "id": "4e8ef71b",
   "metadata": {},
   "source": [
    "### Using dataset from https://github.com/tomasonjo/blog-datasets/blob/main/movies/movies_small.csv"
   ]
  },
  {
   "cell_type": "code",
   "execution_count": 4,
   "id": "d994b5f5",
   "metadata": {},
   "outputs": [],
   "source": [
    "NEO4J_URI=\"neo4j+s://1f7a937f.databases.neo4j.io\"\n",
    "NEO4J_USERNAME=\"neo4j\"\n",
    "NEO4J_PASSWORD=\"aYCioexIrrl7g34zoj0XWnGTECT0a1NZkCrGDjXBI_c\""
   ]
  },
  {
   "cell_type": "code",
   "execution_count": 5,
   "id": "3e279ca2",
   "metadata": {},
   "outputs": [],
   "source": [
    "import os\n",
    "os.environ[\"NEO4J_URI\"] = NEO4J_URI\n",
    "os.environ[\"NEO4J_USERNAME\"] = NEO4J_USERNAME\n",
    "os.environ[\"NEO4J_PASSWORD\"] = NEO4J_PASSWORD"
   ]
  },
  {
   "cell_type": "code",
   "execution_count": 6,
   "id": "04eadbd1",
   "metadata": {},
   "outputs": [
    {
     "data": {
      "text/plain": [
       "<langchain_neo4j.graphs.neo4j_graph.Neo4jGraph at 0x114e9cd40>"
      ]
     },
     "execution_count": 6,
     "metadata": {},
     "output_type": "execute_result"
    }
   ],
   "source": [
    "from langchain_neo4j import Neo4jGraph\n",
    "graph = Neo4jGraph(url=NEO4J_URI, username=NEO4J_USERNAME, password=NEO4J_PASSWORD)\n",
    "graph"
   ]
  },
  {
   "cell_type": "code",
   "execution_count": 46,
   "id": "e81a742f",
   "metadata": {},
   "outputs": [],
   "source": [
    "movie_query = \"\"\"\n",
    "\n",
    "LOAD CSV WITH HEADERS FROM 'https://raw.githubusercontent.com/tomasonjo/blog-datasets/main/movies/movies_small.csv' AS row\n",
    "\n",
    "MERGE (m:Movie {id: row.movieId})\n",
    "SET m.released = date(row.released),\n",
    "    m.title = row.title,\n",
    "    m.imdbRating = toFloat(row.imdbRating)\n",
    "FOREACH (director IN split(row.director, '|') | \n",
    "    MERGE (p:Person {name: trim(director)})\n",
    "    MERGE (p)-[:DIRECTED]->(m))\n",
    "FOREACH (actor IN split(row.actors, '|') | \n",
    "    MERGE (p:Person {name: trim(actor)})\n",
    "    MERGE (p)-[:ACTED_IN]->(m))\n",
    "FOREACH (genre IN split(row.genres, '|') | \n",
    "    MERGE (g:Genre {name: trim(genre)})\n",
    "    MERGE (m)-[:IN_GENRE]->(g))\n",
    "\n",
    "\"\"\""
   ]
  },
  {
   "cell_type": "code",
   "execution_count": null,
   "id": "40491976",
   "metadata": {},
   "outputs": [],
   "source": [
    "#WITH row WHERE row.movieId IS NOT NULL AND trim(row.movieId) <> ''"
   ]
  },
  {
   "cell_type": "code",
   "execution_count": 47,
   "id": "9d0823ec",
   "metadata": {},
   "outputs": [
    {
     "data": {
      "text/plain": [
       "\"\\n\\nLOAD CSV WITH HEADERS FROM 'https://raw.githubusercontent.com/tomasonjo/blog-datasets/main/movies/movies_small.csv' AS row\\n\\nMERGE (m:Movie {id: row.movieId})\\nSET m.released = date(row.released),\\n    m.title = row.title,\\n    m.imdbRating = toFloat(row.imdbRating)\\nFOREACH (director IN split(row.director, '|') | \\n    MERGE (p:Person {name: trim(director)})\\n    MERGE (p)-[:DIRECTED]->(m))\\nFOREACH (actor IN split(row.actors, '|') | \\n    MERGE (p:Person {name: trim(actor)})\\n    MERGE (p)-[:ACTED_IN]->(m))\\nFOREACH (genre IN split(row.genres, '|') | \\n    MERGE (g:Genre {name: trim(genre)})\\n    MERGE (m)-[:IN_GENRE]->(g))\\n\\n\""
      ]
     },
     "execution_count": 47,
     "metadata": {},
     "output_type": "execute_result"
    }
   ],
   "source": [
    "movie_query"
   ]
  },
  {
   "cell_type": "code",
   "execution_count": 48,
   "id": "fbd87117",
   "metadata": {},
   "outputs": [
    {
     "data": {
      "text/plain": [
       "[]"
      ]
     },
     "execution_count": 48,
     "metadata": {},
     "output_type": "execute_result"
    }
   ],
   "source": [
    "graph.query(movie_query)"
   ]
  },
  {
   "cell_type": "code",
   "execution_count": 49,
   "id": "6a1e4c2c",
   "metadata": {},
   "outputs": [
    {
     "name": "stdout",
     "output_type": "stream",
     "text": [
      "Node properties:\n",
      "CEO {name: STRING, POB: STRING, YOB: INTEGER}\n",
      "Company {name: STRING}\n",
      "entreprenur {name: STRING, POB: STRING, YOB: INTEGER}\n",
      "Country {name: STRING}\n",
      "Person {name: STRING, born: INTEGER}\n",
      "Movie {title: STRING, released: INTEGER, id: STRING, imdbRating: FLOAT}\n",
      "Genre {name: STRING}\n",
      "Relationship properties:\n",
      "\n",
      "The relationships:\n",
      "(:Person)-[:ACTED_IN]->(:Movie)\n",
      "(:Person)-[:DIRECTED]->(:Movie)\n",
      "(:Movie)-[:IN_GENRE]->(:Genre)\n"
     ]
    }
   ],
   "source": [
    "graph.refresh_schema()\n",
    "print(graph.schema)"
   ]
  },
  {
   "cell_type": "code",
   "execution_count": null,
   "id": "67f6a06e",
   "metadata": {},
   "outputs": [],
   "source": []
  }
 ],
 "metadata": {
  "kernelspec": {
   "display_name": "Python 3",
   "language": "python",
   "name": "python3"
  },
  "language_info": {
   "codemirror_mode": {
    "name": "ipython",
    "version": 3
   },
   "file_extension": ".py",
   "mimetype": "text/x-python",
   "name": "python",
   "nbconvert_exporter": "python",
   "pygments_lexer": "ipython3",
   "version": "3.12.0"
  }
 },
 "nbformat": 4,
 "nbformat_minor": 5
}
